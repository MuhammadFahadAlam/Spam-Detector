{
 "cells": [
  {
   "cell_type": "code",
   "execution_count": 67,
   "metadata": {},
   "outputs": [],
   "source": [
    "def ifSpam(EmailText):\n",
    "    \"\"\"\n",
    "    Argument: EmailText to check if it is spam or not\n",
    "    \n",
    "    Gets Data from the db on sqlite and convert it to dataframe\n",
    "    Use Multinomial Naive Bayes to Train the Model and predict EmailText as Spam Or Ham \n",
    "    Adds EmailText and its label in the db\n",
    "    \n",
    "    Returns: True if EmailText is spam else False \n",
    "    \"\"\"\n",
    "    \n",
    "    # Importing Required Modules\n",
    "    \n",
    "    import numpy as np\n",
    "    import pandas as pd\n",
    "    import sklearn\n",
    "    \n",
    "    from sklearn.feature_extraction import text  \n",
    "    from sklearn.model_selection import train_test_split\n",
    "    from sklearn.naive_bayes import MultinomialNB\n",
    "    \n",
    "    import sqlite3\n",
    "    \n",
    "    # Establishing connection with db\n",
    "    \n",
    "    cnx = sqlite3.connect('db.sqlite3')\n",
    "    cursor = cnx.cursor()\n",
    "\n",
    "    # Making dataframe from the data of db\n",
    "    ## Data is in table \"application_data_set\" in the db\n",
    "    \n",
    "    df = pd.read_sql_query(\"SELECT * FROM application_data_set\",cnx)\n",
    "\n",
    "    # spliting data into train and test data\n",
    "    \n",
    "    train_set, test_set = train_test_split(df, test_size=0.2, random_state=42)\n",
    "    X_train,Y_train,X_test,Y_test = train_set['EmailText'],train_set['Label'],test_set['EmailText'],test_set['Label']\n",
    "\n",
    "    # Converting text into BOW ( Bags Of Word ) format for use in \"Multinomial Naive Bayes\"\n",
    "    ## It makes a dictionary of words containing the frequency of word's occurence in the text\n",
    "    \n",
    "    vectorizer = text.CountVectorizer(stop_words=\"english\")\n",
    "    counts = vectorizer.fit_transform(X_train.values)\n",
    "\n",
    "    # Training\n",
    "    \n",
    "    spam_nb = MultinomialNB()\n",
    "    spam_nb.fit(counts,Y_train.values)\n",
    "    \n",
    "    # To check the acurracy of the model on the test data\n",
    "    \n",
    "    def model_accuracy():\n",
    "        examples = vectorizer.transform(X_test.values)\n",
    "        predicted = spam_nb.predict(examples)\n",
    "        prediction_bool = pd.Series(predicted==Y_test.values)\n",
    "        true_count = prediction_bool[prediction_bool==True].count()\n",
    "        false_count = prediction_bool[prediction_bool==False].count()\n",
    "        print((100*true_count)/(true_count+false_count))\n",
    "    \n",
    "    # Predicting Label of the Text taken Input as an Argument\n",
    "    \n",
    "    test_vect = vectorizer.transform(np.array([EmailText]))\n",
    "    predict_test_vect = spam_nb.predict(test_vect)\n",
    "\n",
    "    # The new row to add in Dataframe \n",
    "    new_row = {'Label':predict_test_vect[0],'EmailText':EmailText,'id' :df.shape[0]+1}\n",
    "    df = df.append(new_row,ignore_index=True)\n",
    "    \n",
    "    # Replacing The previous table with the new table formed by converting this Dataframe \n",
    "    \n",
    "    df.to_sql(name='application_data_set',con=cnx,if_exists = 'replace',index=False)\n",
    "    \n",
    "    ### For Checking\n",
    "    #print(pd.read_sql('SELECT * from application_data_set', con=cnx))\n",
    "    \n",
    "    cnx.close()\n",
    "    \n",
    "    return predict_test_vect[0] == 'spam'"
   ]
  },
  {
   "cell_type": "code",
   "execution_count": 68,
   "metadata": {},
   "outputs": [
    {
     "data": {
      "text/plain": [
       "False"
      ]
     },
     "execution_count": 68,
     "metadata": {},
     "output_type": "execute_result"
    }
   ],
   "source": [
    "text = 'Trying to spam'\n",
    "ifSpam(text)"
   ]
  },
  {
   "cell_type": "code",
   "execution_count": null,
   "metadata": {},
   "outputs": [],
   "source": []
  }
 ],
 "metadata": {
  "kernelspec": {
   "display_name": "Python 3",
   "language": "python",
   "name": "python3"
  },
  "language_info": {
   "codemirror_mode": {
    "name": "ipython",
    "version": 3
   },
   "file_extension": ".py",
   "mimetype": "text/x-python",
   "name": "python",
   "nbconvert_exporter": "python",
   "pygments_lexer": "ipython3",
   "version": "3.7.4"
  }
 },
 "nbformat": 4,
 "nbformat_minor": 4
}
